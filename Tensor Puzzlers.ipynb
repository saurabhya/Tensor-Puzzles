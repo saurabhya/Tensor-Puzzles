{
 "cells": [
  {
   "cell_type": "markdown",
   "id": "ce63c2a3",
   "metadata": {},
   "source": [
    "# Tensor Puzzles\n",
    "- by [Sasha Rush](http://rush-nlp.com) ( [@srush_nlp](https://twitter.com/srush_nlp) )\n",
    "\n",
    "\n",
    "[![Open In Colab](https://colab.research.google.com/assets/colab-badge.svg)](https://colab.research.google.com/github/srush/Tensor-Puzzles/blob/main/Tensor%20Puzzlers.ipynb)\n",
    "\n",
    "\n",
    "\n",
    "When learning a tensor programming language like PyTorch or Numpy it\n",
    "is tempting to rely on the standard library (or more honestly\n",
    "StackOverflow) to find a magic function for everything.  But in\n",
    "practice, the tensor language is extremely expressive, and you can\n",
    "do most things from first principles and clever use of broadcasting.\n",
    "\n",
    "\n",
    "\n",
    "This is a collection of 16 tensor puzzles. Like chess puzzles these are\n",
    "not meant to simulate the complexity of a real program, but to practice\n",
    "in a simplified environment. Each puzzle asks you to reimplement one\n",
    "function in the NumPy standard library without magic. \n",
    "\n",
    "![](https://raw.githubusercontent.com/srush/Tensor-Puzzles/main/chess.jpeg)\n",
    "\n",
    "* [Puzzle 1 - ones](#puzzle-1---ones).\n",
    "* [Puzzle 2 - sum](#puzzle-2---sum).\n",
    "* [Puzzle 3 - outer](#puzzle-3---outer).\n",
    "* [Puzzle 4 - diag](#puzzle-4---diag).\n",
    "* [Puzzle 5 - eye](#puzzle-5---eye).\n",
    "* [Puzzle 6 - triu](#puzzle-6---triu).\n",
    "* [Puzzle 7 - cumsum](#puzzle-7---cumsum).\n",
    "* [Puzzle 8 - diff](#puzzle-8---diff).\n",
    "* [Puzzle 9 - vstack](#puzzle-9---vstack).\n",
    "* [Puzzle 10 - roll](#puzzle-10---roll).\n",
    "* [Puzzle 11 - flip](#puzzle-11---flip).\n",
    "* [Puzzle 12 - compress](#puzzle-12---compress).\n",
    "* [Puzzle 13 - pad_to](#puzzle-13---pad_to).\n",
    "* [Puzzle 14 - sequence_mask](#puzzle-14---sequence_mask).\n",
    "* [Puzzle 15 - bincount](#puzzle-15---bincount).\n",
    "* [Puzzle 16 - scatter_add](#puzzle-16---scatter_add).\n",
    "\n",
    "\n",
    "## Rules\n",
    "\n",
    "1. Each can be solved in 1 line (<80 columns) of code.\n",
    "2. You are allowed @, arithmetic, comparison, `shape`, `.T`, any indexing (e.g. `a[:j], a[:, None], a[arange(10)]`), and previous puzzle functions.\n",
    "3. Additionally you are allowed these two functions:"
   ]
  },
  {
   "cell_type": "code",
<<<<<<< HEAD
   "execution_count": 1,
   "id": "6ea9ac24",
=======
   "execution_count": null,
   "id": "271c7c80",
>>>>>>> fc8c9e8f279605d5a56173aa2a77d13393f3faf0
   "metadata": {
    "lines_to_next_cell": 2
   },
   "outputs": [],
   "source": [
    "import torch\n",
    "\n",
    "\n",
    "def arange(i: int):\n",
    "    \"Think for-loop\"\n",
    "    return torch.tensor(range(i))\n",
    "\n",
    "\n",
    "def where(q, a, b):\n",
    "    \"Think if-statement\"\n",
    "    return (q * a) + (~q) * b"
   ]
  },
  {
   "cell_type": "markdown",
   "id": "3ec701e9",
   "metadata": {},
   "source": [
    "\n",
    "### Anti-Rules\n",
    "\n",
    "1. Nothing else. No `view`, `sum`, `take`, `squeeze`, `tensor`.\n",
    "2. No cheating. Stackoverflow is great, but this is about first-principles.\n",
    "\n",
    "\n",
    "## Running puzzles\n",
    "\n",
    "Each example, corresponds to a unit test which will randomly\n",
    "try to break your code based on the spec. The spec is written in\n",
    "standard python with lists.\n",
    "\n",
    "To play, fork this repo,\n",
    "\n",
    "```bash\n",
    "pip install -r requirements.txt\n",
    "pytest test_puzzles.py\n",
    "```\n",
    "\n",
    "Alternatively you can play in Colab above or in a notebook on your machine.\n",
    "\n",
    "[![Open In Colab](https://colab.research.google.com/assets/colab-badge.svg)](https://colab.research.google.com/github/srush/Tensor-Puzzles/blob/main/Tensor%20Puzzlers.ipynb)\n",
    "\n",
    "If you are runing in a notebook, just uncomment the test for each example.\n",
    "If the test succeeds you will get a puppy. \n",
    "\n",
    "[Start at Puzzle 1!](#puzzle-1---ones).\n",
    "\n",
    "\n",
    "\n",
    "### Test Harness"
   ]
  },
  {
   "cell_type": "code",
<<<<<<< HEAD
   "execution_count": 2,
   "id": "a9aeba8e",
=======
   "execution_count": null,
   "id": "fc370518",
>>>>>>> fc8c9e8f279605d5a56173aa2a77d13393f3faf0
   "metadata": {},
   "outputs": [],
   "source": [
    "!pip install -qqq torchtyping hypothesis pytest"
   ]
  },
  {
   "cell_type": "code",
<<<<<<< HEAD
   "execution_count": 13,
   "id": "75462c10",
=======
   "execution_count": null,
   "id": "3507a46e",
>>>>>>> fc8c9e8f279605d5a56173aa2a77d13393f3faf0
   "metadata": {
    "lines_to_next_cell": 1
   },
   "outputs": [],
   "source": [
    "\n",
    "\n",
    "from torchtyping import TensorType as TT\n",
    "from hypothesis.extra.numpy import arrays\n",
    "from hypothesis.strategies import integers, tuples, composite, floats\n",
    "from hypothesis import given\n",
    "import numpy as np\n",
    "import random\n",
    "import sys\n",
    "import typing\n",
    "\n",
    "size = integers(min_value=1, max_value=5)\n",
    "\n",
    "tensor = torch.tensor\n",
    "\n",
    "numpy_to_torch_dtype_dict = {\n",
    "    bool: torch.bool,\n",
    "    np.uint8: torch.uint8,\n",
    "    np.int8: torch.int8,\n",
    "    np.int16: torch.int16,\n",
    "    np.int32: torch.int32,\n",
    "    np.int64: torch.int64,\n",
    "    np.float16: torch.float16,\n",
    "    np.float32: torch.float32,\n",
    "    np.float64: torch.float64,\n",
    "}\n",
    "torch_to_numpy_dtype_dict = {v: k for k, v in numpy_to_torch_dtype_dict.items()}\n",
    "\n",
    "\n",
    "@composite\n",
    "def spec(draw, x):\n",
    "\n",
    "    names = set()\n",
    "    if sys.version_info >= (3, 9):\n",
    "        gth = typing.get_type_hints(x, include_extras=True)\n",
    "    else:\n",
    "        gth = typing.get_type_hints(x)\n",
    "    for k in gth:\n",
    "        if not hasattr(gth[k], \"__metadata__\"):\n",
    "            continue\n",
    "        dims = gth[k].__metadata__[0][\"details\"][0].dims\n",
    "        names.update([d.name for d in dims if isinstance(d.name, str)])\n",
    "    names = list(names)\n",
    "    arr = draw(tuples(*[size for _ in range(len(names))]))\n",
    "    sizes = dict(zip(names, arr))\n",
    "    ret = {}\n",
    "\n",
    "    for k in gth:\n",
    "        if not hasattr(gth[k], \"__metadata__\"):\n",
    "            continue\n",
    "        shape = tuple(\n",
    "            [\n",
    "                sizes[d.name] if isinstance(d.name, str) else d.size\n",
    "                for d in gth[k].__metadata__[0][\"details\"][0].dims\n",
    "            ]\n",
    "        )\n",
    "        ret[k] = draw(\n",
    "            arrays(\n",
    "                shape=shape,\n",
    "                dtype=torch_to_numpy_dtype_dict[\n",
    "                    gth[k].__metadata__[0][\"details\"][1].dtype\n",
    "                ]\n",
    "                if len(gth[k].__metadata__[0][\"details\"]) >= 2\n",
    "                else int,\n",
    "            )\n",
    "        )\n",
    "        ret[k][ret[k] > 1000] = 1000\n",
    "        ret[k][ret[k] < -1000] = -1000\n",
    "        ret[k] = np.nan_to_num(ret[k], nan=0, neginf=0, posinf=0)\n",
    "\n",
    "    ret[\"return\"][:] = 0\n",
    "    return ret, sizes\n",
    "\n",
    "\n",
    "def make_test(problem, problem_spec, add_sizes=[], constraint=lambda d: d):\n",
    "    @given(spec(problem))\n",
    "    def test_problem(d):\n",
    "        d, sizes = d\n",
    "        d = constraint(d)\n",
    "        out = d[\"return\"].tolist()\n",
    "        del d[\"return\"]\n",
    "        problem_spec(*d.values(), out)\n",
    "        for size in add_sizes:\n",
    "            d[size] = sizes[size]\n",
    "\n",
    "        out2 = problem(*map(tensor, d.values()))\n",
    "        out = tensor(out)\n",
    "        out2 = torch.broadcast_to(out2, out.shape)\n",
    "        assert torch.equal(\n",
    "            out, out2\n",
    "        ), \"Two tensors are not equal\\n Spec: \\n\\t%s \\n\\t%s\" % (out, out2)\n",
    "\n",
    "    return test_problem\n",
    "\n",
    "def run_test(fn):\n",
    "    fn()\n",
    "    # Generate a random puppy video if you are correct.\n",
    "    print(\"Correct!\")\n",
    "    from IPython.display import HTML\n",
    "    pups = [\n",
    "    \"2m78jPG\",\n",
    "    \"pn1e9TO\",\n",
    "    \"MQCIwzT\",\n",
    "    \"udLK6FS\",\n",
    "    \"ZNem5o3\",\n",
    "    \"DS2IZ6K\",\n",
    "    \"aydRUz8\",\n",
    "    \"MVUdQYK\",\n",
    "    \"kLvno0p\",\n",
    "    \"wScLiVz\",\n",
    "    \"Z0TII8i\",\n",
    "    \"F1SChho\",\n",
    "    \"9hRi2jN\",\n",
    "    \"lvzRF3W\",\n",
    "    \"fqHxOGI\",\n",
    "    \"1xeUYme\",\n",
    "    \"6tVqKyM\",\n",
    "    \"CCxZ6Wr\",\n",
    "    \"lMW0OPQ\",\n",
    "    \"wHVpHVG\",\n",
    "    \"Wj2PGRl\",\n",
    "    \"HlaTE8H\",\n",
    "    \"k5jALH0\",\n",
    "    \"3V37Hqr\",\n",
    "    \"Eq2uMTA\",\n",
    "    \"Vy9JShx\",\n",
    "    \"g9I2ZmK\",\n",
    "    \"Nu4RH7f\",\n",
    "    \"sWp0Dqd\",\n",
    "    \"bRKfspn\",\n",
    "    \"qawCMl5\",\n",
    "    \"2F6j2B4\",\n",
    "    \"fiJxCVA\",\n",
    "    \"pCAIlxD\",\n",
    "    \"zJx2skh\",\n",
    "    \"2Gdl1u7\",\n",
    "    \"aJJAY4c\",\n",
    "    \"ros6RLC\",\n",
    "    \"DKLBJh7\",\n",
    "    \"eyxH0Wc\",\n",
    "    \"rJEkEw4\"]\n",
    "    return HTML(\"\"\"\n",
    "    <video alt=\"test\" controls autoplay=1>\n",
    "        <source src=\"https://openpuppies.com/mp4/%s.mp4\"  type=\"video/mp4\">\n",
    "    </video>\n",
    "    \"\"\"%(random.sample(pups, 1)[0]))"
   ]
  },
  {
   "cell_type": "markdown",
   "id": "4c0976c5",
   "metadata": {},
   "source": [
    "## Puzzle 1 - ones\n",
    "\n",
    "Compute [ones](https://numpy.org/doc/stable/reference/generated/numpy.ones.html) - the vector of all ones."
   ]
  },
  {
   "cell_type": "code",
<<<<<<< HEAD
   "execution_count": 14,
   "id": "852512d9",
   "metadata": {},
   "outputs": [],
   "source": [
    "import torch"
   ]
  },
  {
   "cell_type": "code",
   "execution_count": 15,
   "id": "72954f57",
=======
   "execution_count": null,
   "id": "92cdbf52",
>>>>>>> fc8c9e8f279605d5a56173aa2a77d13393f3faf0
   "metadata": {},
   "outputs": [],
   "source": [
    "def ones_spec(out):\n",
    "    for i in range(len(out)):\n",
    "        out[i] = 1\n"
   ]
  },
  {
   "cell_type": "code",
<<<<<<< HEAD
   "execution_count": 25,
   "id": "eb7f040a",
=======
   "execution_count": null,
   "id": "fdc09d76",
>>>>>>> fc8c9e8f279605d5a56173aa2a77d13393f3faf0
   "metadata": {
    "lines_to_next_cell": 2
   },
   "outputs": [
    {
     "ename": "KeyError",
     "evalue": "'return'",
     "output_type": "error",
     "traceback": [
      "\u001b[0;31m---------------------------------------------------------------------------\u001b[0m",
      "\u001b[0;31mKeyError\u001b[0m                                  Traceback (most recent call last)",
      "\u001b[0;32m/tmp/ipykernel_1424303/1358338616.py\u001b[0m in \u001b[0;36m<module>\u001b[0;34m\u001b[0m\n\u001b[1;32m      5\u001b[0m \u001b[0;34m\u001b[0m\u001b[0m\n\u001b[1;32m      6\u001b[0m \u001b[0mtest_ones\u001b[0m \u001b[0;34m=\u001b[0m \u001b[0mmake_test\u001b[0m\u001b[0;34m(\u001b[0m\u001b[0mones\u001b[0m\u001b[0;34m,\u001b[0m \u001b[0mones_spec\u001b[0m\u001b[0;34m,\u001b[0m \u001b[0madd_sizes\u001b[0m\u001b[0;34m=\u001b[0m\u001b[0;34m[\u001b[0m\u001b[0;34m\"i\"\u001b[0m\u001b[0;34m]\u001b[0m\u001b[0;34m)\u001b[0m\u001b[0;34m\u001b[0m\u001b[0;34m\u001b[0m\u001b[0m\n\u001b[0;32m----> 7\u001b[0;31m \u001b[0mrun_test\u001b[0m\u001b[0;34m(\u001b[0m\u001b[0mtest_ones\u001b[0m\u001b[0;34m)\u001b[0m\u001b[0;34m\u001b[0m\u001b[0;34m\u001b[0m\u001b[0m\n\u001b[0m",
      "\u001b[0;32m/tmp/ipykernel_1424303/3668372993.py\u001b[0m in \u001b[0;36mrun_test\u001b[0;34m(fn)\u001b[0m\n\u001b[1;32m     89\u001b[0m \u001b[0;34m\u001b[0m\u001b[0m\n\u001b[1;32m     90\u001b[0m \u001b[0;32mdef\u001b[0m \u001b[0mrun_test\u001b[0m\u001b[0;34m(\u001b[0m\u001b[0mfn\u001b[0m\u001b[0;34m)\u001b[0m\u001b[0;34m:\u001b[0m\u001b[0;34m\u001b[0m\u001b[0;34m\u001b[0m\u001b[0m\n\u001b[0;32m---> 91\u001b[0;31m     \u001b[0mfn\u001b[0m\u001b[0;34m(\u001b[0m\u001b[0;34m)\u001b[0m\u001b[0;34m\u001b[0m\u001b[0;34m\u001b[0m\u001b[0m\n\u001b[0m\u001b[1;32m     92\u001b[0m     \u001b[0;31m# Generate a random puppy video if you are correct.\u001b[0m\u001b[0;34m\u001b[0m\u001b[0;34m\u001b[0m\u001b[0;34m\u001b[0m\u001b[0m\n\u001b[1;32m     93\u001b[0m     \u001b[0mprint\u001b[0m\u001b[0;34m(\u001b[0m\u001b[0;34m\"Correct!\"\u001b[0m\u001b[0;34m)\u001b[0m\u001b[0;34m\u001b[0m\u001b[0;34m\u001b[0m\u001b[0m\n",
      "\u001b[0;32m/tmp/ipykernel_1424303/3668372993.py\u001b[0m in \u001b[0;36mtest_problem\u001b[0;34m()\u001b[0m\n\u001b[1;32m     70\u001b[0m \u001b[0;32mdef\u001b[0m \u001b[0mmake_test\u001b[0m\u001b[0;34m(\u001b[0m\u001b[0mproblem\u001b[0m\u001b[0;34m,\u001b[0m \u001b[0mproblem_spec\u001b[0m\u001b[0;34m,\u001b[0m \u001b[0madd_sizes\u001b[0m\u001b[0;34m=\u001b[0m\u001b[0;34m[\u001b[0m\u001b[0;34m]\u001b[0m\u001b[0;34m,\u001b[0m \u001b[0mconstraint\u001b[0m\u001b[0;34m=\u001b[0m\u001b[0;32mlambda\u001b[0m \u001b[0md\u001b[0m\u001b[0;34m:\u001b[0m \u001b[0md\u001b[0m\u001b[0;34m)\u001b[0m\u001b[0;34m:\u001b[0m\u001b[0;34m\u001b[0m\u001b[0;34m\u001b[0m\u001b[0m\n\u001b[1;32m     71\u001b[0m     \u001b[0;34m@\u001b[0m\u001b[0mgiven\u001b[0m\u001b[0;34m(\u001b[0m\u001b[0mspec\u001b[0m\u001b[0;34m(\u001b[0m\u001b[0mproblem\u001b[0m\u001b[0;34m)\u001b[0m\u001b[0;34m)\u001b[0m\u001b[0;34m\u001b[0m\u001b[0;34m\u001b[0m\u001b[0m\n\u001b[0;32m---> 72\u001b[0;31m     \u001b[0;32mdef\u001b[0m \u001b[0mtest_problem\u001b[0m\u001b[0;34m(\u001b[0m\u001b[0md\u001b[0m\u001b[0;34m)\u001b[0m\u001b[0;34m:\u001b[0m\u001b[0;34m\u001b[0m\u001b[0;34m\u001b[0m\u001b[0m\n\u001b[0m\u001b[1;32m     73\u001b[0m         \u001b[0md\u001b[0m\u001b[0;34m,\u001b[0m \u001b[0msizes\u001b[0m \u001b[0;34m=\u001b[0m \u001b[0md\u001b[0m\u001b[0;34m\u001b[0m\u001b[0;34m\u001b[0m\u001b[0m\n\u001b[1;32m     74\u001b[0m         \u001b[0md\u001b[0m \u001b[0;34m=\u001b[0m \u001b[0mconstraint\u001b[0m\u001b[0;34m(\u001b[0m\u001b[0md\u001b[0m\u001b[0;34m)\u001b[0m\u001b[0;34m\u001b[0m\u001b[0;34m\u001b[0m\u001b[0m\n",
      "    \u001b[0;31m[... skipping hidden 1 frame]\u001b[0m\n",
      "\u001b[0;32m/tmp/ipykernel_1424303/3668372993.py\u001b[0m in \u001b[0;36mspec\u001b[0;34m(draw, x)\u001b[0m\n\u001b[1;32m     64\u001b[0m         \u001b[0mret\u001b[0m\u001b[0;34m[\u001b[0m\u001b[0mk\u001b[0m\u001b[0;34m]\u001b[0m \u001b[0;34m=\u001b[0m \u001b[0mnp\u001b[0m\u001b[0;34m.\u001b[0m\u001b[0mnan_to_num\u001b[0m\u001b[0;34m(\u001b[0m\u001b[0mret\u001b[0m\u001b[0;34m[\u001b[0m\u001b[0mk\u001b[0m\u001b[0;34m]\u001b[0m\u001b[0;34m,\u001b[0m \u001b[0mnan\u001b[0m\u001b[0;34m=\u001b[0m\u001b[0;36m0\u001b[0m\u001b[0;34m,\u001b[0m \u001b[0mneginf\u001b[0m\u001b[0;34m=\u001b[0m\u001b[0;36m0\u001b[0m\u001b[0;34m,\u001b[0m \u001b[0mposinf\u001b[0m\u001b[0;34m=\u001b[0m\u001b[0;36m0\u001b[0m\u001b[0;34m)\u001b[0m\u001b[0;34m\u001b[0m\u001b[0;34m\u001b[0m\u001b[0m\n\u001b[1;32m     65\u001b[0m \u001b[0;34m\u001b[0m\u001b[0m\n\u001b[0;32m---> 66\u001b[0;31m     \u001b[0mret\u001b[0m\u001b[0;34m[\u001b[0m\u001b[0;34m\"return\"\u001b[0m\u001b[0;34m]\u001b[0m\u001b[0;34m[\u001b[0m\u001b[0;34m:\u001b[0m\u001b[0;34m]\u001b[0m \u001b[0;34m=\u001b[0m \u001b[0;36m0\u001b[0m\u001b[0;34m\u001b[0m\u001b[0;34m\u001b[0m\u001b[0m\n\u001b[0m\u001b[1;32m     67\u001b[0m     \u001b[0;32mreturn\u001b[0m \u001b[0mret\u001b[0m\u001b[0;34m,\u001b[0m \u001b[0msizes\u001b[0m\u001b[0;34m\u001b[0m\u001b[0;34m\u001b[0m\u001b[0m\n\u001b[1;32m     68\u001b[0m \u001b[0;34m\u001b[0m\u001b[0m\n",
      "\u001b[0;31mKeyError\u001b[0m: 'return'"
     ]
    }
   ],
   "source": [
    "def ones(i: int) -> TT[\"i\"]:\n",
    "    # assert False, 'Not implemented yet.'\n",
    "    return np.ones((i))\n",
    "\n",
    "\n",
    "test_ones = make_test(ones, ones_spec, add_sizes=[\"i\"])\n",
    "run_test(test_ones)"
   ]
  },
  {
   "cell_type": "markdown",
   "id": "c55ff8da",
   "metadata": {},
   "source": [
    "## Puzzle 2 - sum\n",
    "\n",
    "Compute [sum](https://numpy.org/doc/stable/reference/generated/numpy.sum.html) - the sum of a vector."
   ]
  },
  {
   "cell_type": "code",
<<<<<<< HEAD
   "execution_count": 7,
   "id": "c05e98d8",
=======
   "execution_count": null,
   "id": "df42cfdb",
>>>>>>> fc8c9e8f279605d5a56173aa2a77d13393f3faf0
   "metadata": {},
   "outputs": [],
   "source": [
    "def sum_spec(a, out):\n",
    "    out[0] = 0\n",
    "    for i in range(len(a)):\n",
    "        out[0] += a[i]"
   ]
  },
  {
   "cell_type": "code",
   "execution_count": null,
   "id": "0a481bbe",
   "metadata": {
    "lines_to_next_cell": 2
   },
   "outputs": [],
   "source": [
    "def sum(a: TT[\"i\"]) -> TT[1]:\n",
    "    assert False, 'Not implemented yet.'\n",
    "\n",
    "\n",
    "test_sum = make_test(sum, sum_spec)\n",
    "# run_test(test_sum)"
   ]
  },
  {
   "cell_type": "markdown",
   "id": "0ed30a9b",
   "metadata": {},
   "source": [
    "## Puzzle 3 - outer\n",
    "\n",
    "Compute [outer](https://numpy.org/doc/stable/reference/generated/numpy.outer.html) - the outer product of two vectors."
   ]
  },
  {
   "cell_type": "code",
   "execution_count": null,
   "id": "919060ed",
   "metadata": {},
   "outputs": [],
   "source": [
    "def outer_spec(a, b, out):\n",
    "    for i in range(len(out)):\n",
    "        for j in range(len(out[0])):\n",
    "            out[i][j] = a[i] * b[j]"
   ]
  },
  {
   "cell_type": "code",
   "execution_count": null,
   "id": "9030fc0b",
   "metadata": {
    "lines_to_next_cell": 2
   },
   "outputs": [],
   "source": [
    "def outer(a: TT[\"i\"], b: TT[\"j\"]) -> TT[\"i\", \"j\"]:\n",
    "    assert False, 'Not implemented yet.'\n",
    "\n",
    "\n",
    "test_outer = make_test(outer, outer_spec)\n",
    "# run_test(test_outer)"
   ]
  },
  {
   "cell_type": "markdown",
   "id": "db709f3b",
   "metadata": {},
   "source": [
    "## Puzzle 4 - diag\n",
    "\n",
    "Compute [diag](https://numpy.org/doc/stable/reference/generated/numpy.diag.html) - the diagonal vector of a square matrix."
   ]
  },
  {
   "cell_type": "code",
   "execution_count": null,
   "id": "3b41fb7d",
   "metadata": {},
   "outputs": [],
   "source": [
    "def diag_spec(a, out):\n",
    "    for i in range(len(a)):\n",
    "        out[i] = a[i][i]"
   ]
  },
  {
   "cell_type": "code",
   "execution_count": null,
   "id": "93c65163",
   "metadata": {},
   "outputs": [],
   "source": [
    "def diag(a: TT[\"i\", \"i\"]) -> TT[\"i\"]:\n",
    "    assert False, 'Not implemented yet.'\n",
    "\n",
    "\n",
    "test_diag = make_test(diag, diag_spec)\n",
    "# run_test(test_diag)"
   ]
  },
  {
   "cell_type": "markdown",
   "id": "890f60f0",
   "metadata": {},
   "source": [
    "## Puzzle 5 - eye\n",
    "\n",
    "Compute [eye](https://numpy.org/doc/stable/reference/generated/numpy.eye.html) - the identity matrix."
   ]
  },
  {
   "cell_type": "code",
   "execution_count": null,
   "id": "07119e9e",
   "metadata": {},
   "outputs": [],
   "source": [
    "def eye_spec(out):\n",
    "    for i in range(len(out)):\n",
    "        out[i][i] = 1"
   ]
  },
  {
   "cell_type": "code",
   "execution_count": null,
   "id": "30e09388",
   "metadata": {},
   "outputs": [],
   "source": [
    "def eye(j: int) -> TT[\"j\", \"j\"]:\n",
    "    assert False, 'Not implemented yet.'"
   ]
  },
  {
   "cell_type": "code",
   "execution_count": null,
   "id": "fae4f881",
   "metadata": {},
   "outputs": [],
   "source": [
    "test_eye = make_test(eye, eye_spec, add_sizes=[\"j\"])\n",
    "# run_test(test_eye)"
   ]
  },
  {
   "cell_type": "markdown",
   "id": "2ad1b0a1",
   "metadata": {},
   "source": [
    "## Puzzle 6 - triu\n",
    "\n",
    "Compute [triu](https://numpy.org/doc/stable/reference/generated/numpy.triu.html) - the upper triangular matrix."
   ]
  },
  {
   "cell_type": "code",
   "execution_count": null,
   "id": "631e0cb7",
   "metadata": {},
   "outputs": [],
   "source": [
    "def triu_spec(out):\n",
    "    for i in range(len(out)):\n",
    "        for j in range(len(out)):\n",
    "            if i <= j:\n",
    "                out[i][j] = 1\n",
    "            else:\n",
    "                out[i][j] = 0"
   ]
  },
  {
   "cell_type": "code",
   "execution_count": null,
   "id": "bebcf9ba",
   "metadata": {},
   "outputs": [],
   "source": [
    "def triu(j: int) -> TT[\"j\", \"j\"]:\n",
    "    assert False, 'Not implemented yet.'\n",
    "\n",
    "\n",
    "test_triu = make_test(triu, triu_spec, add_sizes=[\"j\"])\n",
    "# run_test(test_triu)"
   ]
  },
  {
   "cell_type": "markdown",
   "id": "053680ba",
   "metadata": {},
   "source": [
    "## Puzzle 7 - cumsum\n",
    "\n",
    "Compute [cumsum](https://numpy.org/doc/stable/reference/generated/numpy.cumsum.html) - the cumulative sum."
   ]
  },
  {
   "cell_type": "code",
   "execution_count": null,
   "id": "3dee6b27",
   "metadata": {},
   "outputs": [],
   "source": [
    "def cumsum_spec(a, out):\n",
    "    total = 0\n",
    "    for i in range(len(out)):\n",
    "        out[i] = total + a[i]\n",
    "        total += a[i]"
   ]
  },
  {
   "cell_type": "code",
   "execution_count": null,
   "id": "4693103d",
   "metadata": {
    "lines_to_next_cell": 2
   },
   "outputs": [],
   "source": [
    "def cumsum(a: TT[\"i\"]) -> TT[\"i\"]:\n",
    "    assert False, 'Not implemented yet.'\n",
    "\n",
    "\n",
    "test_cumsum = make_test(cumsum, cumsum_spec)\n",
    "# run_test(test_cumsum)"
   ]
  },
  {
   "cell_type": "markdown",
   "id": "ed2b104c",
   "metadata": {},
   "source": [
    "## Puzzle 8 - diff\n",
    "\n",
    "Compute [diff](https://numpy.org/doc/stable/reference/generated/numpy.diff.html) - the running difference."
   ]
  },
  {
   "cell_type": "code",
   "execution_count": null,
   "id": "0e3b535b",
   "metadata": {},
   "outputs": [],
   "source": [
    "def diff_spec(a, out):\n",
    "    out[0] = a[0]\n",
    "    for i in range(1, len(out)):\n",
    "        out[i] = a[i] - a[i - 1]"
   ]
  },
  {
   "cell_type": "code",
   "execution_count": null,
   "id": "5ddd8ceb",
   "metadata": {},
   "outputs": [],
   "source": [
    "def diff(a: TT[\"i\"], i: int) -> TT[\"i\"]:\n",
    "    assert False, 'Not implemented yet.'\n",
    "\n",
    "\n",
    "test_diff = make_test(diff, diff_spec, add_sizes=[\"i\"])\n",
    "# run_test(test_diff)"
   ]
  },
  {
   "cell_type": "markdown",
   "id": "fbb49741",
   "metadata": {},
   "source": [
    "## Puzzle 9 - vstack\n",
    "\n",
    "Compute [vstack](https://numpy.org/doc/stable/reference/generated/numpy.vstack.html) - the matrix of two vectors"
   ]
  },
  {
   "cell_type": "code",
   "execution_count": null,
   "id": "eb46be68",
   "metadata": {},
   "outputs": [],
   "source": [
    "def vstack_spec(a, b, out):\n",
    "    for i in range(len(out[0])):\n",
    "        out[0][i] = a[i]\n",
    "        out[1][i] = b[i]"
   ]
  },
  {
   "cell_type": "code",
   "execution_count": null,
   "id": "5d238a68",
   "metadata": {},
   "outputs": [],
   "source": [
    "def vstack(a: TT[\"i\"], b: TT[\"i\"]) -> TT[2, \"i\"]:\n",
    "    assert False, 'Not implemented yet.'\n",
    "\n",
    "\n",
    "test_vstack = make_test(vstack, vstack_spec)\n",
    "# run_test(test_vstack)"
   ]
  },
  {
   "cell_type": "markdown",
   "id": "92098809",
   "metadata": {},
   "source": [
    "## Puzzle 10 - roll\n",
    "\n",
    "Compute [roll](https://numpy.org/doc/stable/reference/generated/numpy.roll.html) - the vector shifted 1 circular position."
   ]
  },
  {
   "cell_type": "code",
   "execution_count": null,
   "id": "47ebdf39",
   "metadata": {},
   "outputs": [],
   "source": [
    "def roll_spec(a, out):\n",
    "    for i in range(len(out)):\n",
    "        if i + 1 < len(out):\n",
    "            out[i] = a[i + 1]\n",
    "        else:\n",
    "            out[i] = a[i + 1 - len(out)]"
   ]
  },
  {
   "cell_type": "code",
   "execution_count": null,
   "id": "93e52e7f",
   "metadata": {},
   "outputs": [],
   "source": [
    "def roll(a: TT[\"i\"], i: int) -> TT[\"i\"]:\n",
    "    assert False, 'Not implemented yet.'\n",
    "\n",
    "\n",
    "test_roll = make_test(roll, roll_spec, add_sizes=[\"i\"])\n",
    "# run_test(test_roll)"
   ]
  },
  {
   "cell_type": "markdown",
   "id": "c9abfc08",
   "metadata": {},
   "source": [
    "## Puzzle 11 - flip\n",
    "\n",
    "Compute [flip](https://numpy.org/doc/stable/reference/generated/numpy.flip.html) - the reversed vector"
   ]
  },
  {
   "cell_type": "code",
   "execution_count": null,
   "id": "0249188a",
   "metadata": {},
   "outputs": [],
   "source": [
    "def flip_spec(a, out):\n",
    "    for i in range(len(out)):\n",
    "        out[i] = a[len(out) - i - 1]"
   ]
  },
  {
   "cell_type": "code",
   "execution_count": null,
   "id": "f88ceb75",
   "metadata": {},
   "outputs": [],
   "source": [
    "def flip(a: TT[\"i\"], i: int) -> TT[\"i\"]:\n",
    "    assert False, 'Not implemented yet.'\n",
    "\n",
    "\n",
    "test_flip = make_test(flip, flip_spec, add_sizes=[\"i\"])\n",
    "# run_test(test_flip)"
   ]
  },
  {
   "cell_type": "markdown",
   "id": "b4d5b716",
   "metadata": {},
   "source": [
    "## Puzzle 12 - compress\n",
    "\n",
    "\n",
    "Compute [compress](https://numpy.org/doc/stable/reference/generated/numpy.compress.html) - keep only masked entries (left-aligned)."
   ]
  },
  {
   "cell_type": "code",
   "execution_count": null,
   "id": "1bc03a0c",
   "metadata": {},
   "outputs": [],
   "source": [
    "def compress_spec(g, v, out):\n",
    "    j = 0\n",
    "    for i in range(len(g)):\n",
    "        if g[i]:\n",
    "            out[j] = v[i]\n",
    "            j += 1"
   ]
  },
  {
   "cell_type": "code",
   "execution_count": null,
   "id": "dc60e6f8",
   "metadata": {
    "lines_to_next_cell": 2
   },
   "outputs": [],
   "source": [
    "def compress(g: TT[\"i\", bool], v: TT[\"i\"], i:int) -> TT[\"i\"]:\n",
    "    assert False, 'Not implemented yet.'\n",
    "\n",
    "\n",
    "test_compress = make_test(compress, compress_spec, add_sizes=[\"i\"])\n",
    "# run_test(test_compress)"
   ]
  },
  {
   "cell_type": "markdown",
   "id": "67cb7438",
   "metadata": {
    "lines_to_next_cell": 2
   },
   "source": [
    "## Puzzle 13 - pad_to\n",
    "\n",
    "\n",
    "Compute pad_to - eliminate or add 0s to change size of vector."
   ]
  },
  {
   "cell_type": "code",
   "execution_count": null,
   "id": "256974b4",
   "metadata": {
    "id": "-DsZHgOTroVN",
    "lines_to_next_cell": 2
   },
   "outputs": [],
   "source": [
    "def pad_to_spec(a, out):\n",
    "    for i in range(min(len(out), len(a))):\n",
    "        out[i] = a[i]\n",
    "\n",
    "\n",
    "def pad_to(a: TT[\"i\"], i: int, j: int) -> TT[\"j\"]:\n",
    "    assert False, 'Not implemented yet.'\n",
    "\n",
    "\n",
    "test_pad_to = make_test(pad_to, pad_to_spec, add_sizes=[\"i\", \"j\"])\n",
    "# run_test(test_pad_to)"
   ]
  },
  {
   "cell_type": "markdown",
   "id": "2879b5bd",
   "metadata": {},
   "source": [
    "## Puzzle 14 - sequence_mask\n",
    "\n",
    "\n",
    "Compute [sequence_mask](https://www.tensorflow.org/api_docs/python/tf/sequence_mask) - pad out to length per batch."
   ]
  },
  {
   "cell_type": "code",
   "execution_count": null,
   "id": "f5cbca62",
   "metadata": {},
   "outputs": [],
   "source": [
    "def sequence_mask_spec(values, length, out):\n",
    "    for i in range(len(out)):\n",
    "        for j in range(len(out[0])):\n",
    "            if j < length[i]:\n",
    "                out[i][j] = values[i][j]\n",
    "            else:\n",
    "                out[i][j] = 0"
   ]
  },
  {
   "cell_type": "code",
   "execution_count": null,
   "id": "fad22a45",
   "metadata": {
    "lines_to_next_cell": 2
   },
   "outputs": [],
   "source": [
    "def sequence_mask(values: TT[\"i\", \"j\"], length: TT[\"i\", int]) -> TT[\"i\", \"j\"]:\n",
    "    assert False, 'Not implemented yet.'\n",
    "\n",
    "\n",
    "def constraint_set_length(d):\n",
    "    d[\"length\"] = d[\"length\"] % d[\"values\"].shape[1]\n",
    "    return d\n",
    "\n",
    "\n",
    "test_sequence = make_test(\n",
    "    sequence_mask, sequence_mask_spec, constraint=constraint_set_length\n",
    ")\n",
    "\n",
    "# run_test(test_sequence)"
   ]
  },
  {
   "cell_type": "markdown",
   "id": "63f54573",
   "metadata": {
    "lines_to_next_cell": 2
   },
   "source": [
    "## Puzzle 15 - bincount\n",
    "\n",
    "Compute [bincount](https://numpy.org/doc/stable/reference/generated/numpy.bincount.html) - count number of times an entry was seen."
   ]
  },
  {
   "cell_type": "code",
   "execution_count": null,
   "id": "2e2783d3",
   "metadata": {},
   "outputs": [],
   "source": [
    "def bincount_spec(a, out):\n",
    "    for i in range(len(a)):\n",
    "        out[a[i]] += 1"
   ]
  },
  {
   "cell_type": "code",
   "execution_count": null,
   "id": "77012b36",
   "metadata": {
    "lines_to_next_cell": 2
   },
   "outputs": [],
   "source": [
    "def bincount(a: TT[\"i\"], j: int) -> TT[\"j\"]:\n",
    "    assert False, 'Not implemented yet.'\n",
    "\n",
    "\n",
    "def constraint_set_max(d):\n",
    "    d[\"a\"] = d[\"a\"] % d[\"return\"].shape[0]\n",
    "    return d\n",
    "\n",
    "\n",
    "test_bincount = make_test(\n",
    "    bincount, bincount_spec, add_sizes=[\"j\"], constraint=constraint_set_max\n",
    ")\n",
    "# run_test(test_bincount)"
   ]
  },
  {
   "cell_type": "markdown",
   "id": "cbc7a046",
   "metadata": {
    "lines_to_next_cell": 2
   },
   "source": [
    "## Puzzle 16 - scatter_add\n",
    "\n",
    "Compute [scatter_add](https://pytorch-scatter.readthedocs.io/en/1.3.0/functions/add.html) - add together values that link to the same location."
   ]
  },
  {
   "cell_type": "code",
   "execution_count": null,
   "id": "eac7cb00",
   "metadata": {},
   "outputs": [],
   "source": [
    "def scatter_add_spec(values, link, out):\n",
    "    for j in range(len(values)):\n",
    "        out[link[j]] += values[j]"
   ]
  },
  {
   "cell_type": "code",
   "execution_count": null,
   "id": "71791dfc",
   "metadata": {
    "lines_to_next_cell": 2
   },
   "outputs": [],
   "source": [
    "def scatter_add(values: TT[\"i\"], link: TT[\"i\"], j: int) -> TT[\"j\"]:\n",
    "    assert False, 'Not implemented yet.'\n",
    "\n",
    "\n",
    "def constraint_set_max(d):\n",
    "    d[\"link\"] = d[\"link\"] % d[\"return\"].shape[0]\n",
    "    return d\n",
    "\n",
    "\n",
    "test_scatter_add = make_test(\n",
    "    scatter_add, scatter_add_spec, add_sizes=[\"j\"], constraint=constraint_set_max\n",
    ")\n",
    "# run_test(test_scatter_add)"
   ]
  },
  {
   "cell_type": "markdown",
   "id": "8869aea7",
   "metadata": {},
   "source": [
    "\n",
    "Conciseness counter."
   ]
  },
  {
   "cell_type": "code",
   "execution_count": null,
   "id": "6a1285c7",
   "metadata": {},
   "outputs": [],
   "source": [
    "\n",
    "import inspect\n",
    "fns = (ones, sum, outer, diag, eye, triu, cumsum, diff, vstack, roll, flip,\n",
    "       compress, pad_to, sequence_mask, bincount, scatter_add)\n",
    "\n",
    "for fn in fns:\n",
    "    lines = [l for l in inspect.getsource(fn).split(\"\\n\") if not l.strip().startswith(\"#\")]\n",
    "    \n",
    "    if len(lines) > 3:\n",
    "        print(fn.__name__, len(lines[2]), \"(more than 1 line)\")\n",
    "    else:\n",
    "        print(fn.__name__, len(lines[1]))"
   ]
  }
 ],
 "metadata": {
  "interpreter": {
   "hash": "947a2bb3cc3044b12254074f2fd2d562438dcd4dbcf54420d88aa807eab99dbc"
  },
  "jupytext": {
   "cell_metadata_filter": "id,-all",
   "main_language": "python",
   "notebook_metadata_filter": "-all"
  },
  "kernelspec": {
   "display_name": "Python 3.9.6 ('DLmain')",
   "language": "python",
   "name": "python3"
  },
  "language_info": {
   "codemirror_mode": {
    "name": "ipython",
    "version": 3
   },
   "file_extension": ".py",
   "mimetype": "text/x-python",
   "name": "python",
   "nbconvert_exporter": "python",
   "pygments_lexer": "ipython3",
   "version": "3.9.6"
  }
 },
 "nbformat": 4,
 "nbformat_minor": 5
}
